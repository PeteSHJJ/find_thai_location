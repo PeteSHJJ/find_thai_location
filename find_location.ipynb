{
 "cells": [
  {
   "cell_type": "code",
   "execution_count": 1,
   "id": "376bc0ef",
   "metadata": {},
   "outputs": [],
   "source": [
    "import os\n",
    "import sqlite3\n",
    "import csv\n",
    "from pythainlp.tag.thainer import ThaiNameTagger"
   ]
  },
  {
   "cell_type": "code",
   "execution_count": 2,
   "id": "631fc612",
   "metadata": {},
   "outputs": [],
   "source": [
    "cur_dir = globals()['_dh'][0]"
   ]
  },
  {
   "cell_type": "code",
   "execution_count": 3,
   "id": "1f33baba",
   "metadata": {},
   "outputs": [],
   "source": [
    "def find_named_entities(text):\n",
    "    ner = ThaiNameTagger()\n",
    "    nes = ner.get_ner(text) \n",
    "    named_entities = []\n",
    "    tag_focus = [\"B-LOCATION\", \"I-LOCATION\", \"B-PERSON\", \"I-PERSON\", \"B-ORGANIZATION\", \"I-ORGANIZATION\"]\n",
    "    l = \"\"\n",
    "    # print(nes)\n",
    "    for idx, ne in enumerate(nes):\n",
    "        if ne[2] in tag_focus and ne[1]:\n",
    "            if idx+1 < len(nes):\n",
    "                if nes[idx+1][2] in tag_focus and nes[idx+1][0] != \" \":\n",
    "                    l += ne[0]\n",
    "                else:\n",
    "                    l += ne[0]\n",
    "                    named_entities.append(l.strip())\n",
    "                    l = \"\"\n",
    "            else:\n",
    "                l += ne[0]\n",
    "                named_entities.append(l.strip())\n",
    "                l = \"\"\n",
    "    return named_entities"
   ]
  },
  {
   "cell_type": "code",
   "execution_count": 10,
   "id": "59e8ce91",
   "metadata": {},
   "outputs": [],
   "source": [
    "# function to Initialize database\n",
    "def populate_db():\n",
    "    cur_dir = globals()['_dh'][0]\n",
    "    db_file = cur_dir + \"/locationdata.db\"\n",
    "    con = sqlite3.connect(db_file)\n",
    "    cur = con.cursor()\n",
    "    cur.execute(\"DROP TABLE IF EXISTS locations\")\n",
    "    \n",
    "    cur.execute(\"CREATE TABLE locations(province TEXT, district TEXT, subdistrict TEXT, zipcode TEXT, latitude TEXT, longitude TEXT)\")\n",
    "        \n",
    "    with open(str(cur_dir)+ \"/data/locations.csv\", encoding = 'UTF') as info:\n",
    "        reader = csv.reader(info)\n",
    "        for row in reader:\n",
    "            cur.execute(\"INSERT INTO locations VALUES(?, ?, ?, ?, ?, ?)\", row)\n",
    "                \n",
    "        con.commit()\n",
    "    return con\n",
    "        \n",
    "def db_has_data(con):\n",
    "    cur = con.cursor()\n",
    "    cur.execute(\"SELECT Count(*) FROM sqlite_master WHERE name='locations';\")\n",
    "    data = cur.fetchone()[0]\n",
    "        \n",
    "    if data > 0:\n",
    "        cur.execute(\"SELECT Count(*) FROM locations\")\n",
    "        data = cur.fetchone()[0]\n",
    "        return data > 0 \n",
    "        \n",
    "    return False"
   ]
  },
  {
   "cell_type": "code",
   "execution_count": 11,
   "id": "422432fa",
   "metadata": {},
   "outputs": [],
   "source": [
    "con = populate_db()"
   ]
  },
  {
   "cell_type": "code",
   "execution_count": 12,
   "id": "7482d07f",
   "metadata": {},
   "outputs": [],
   "source": [
    "def find_subdistrict(named_entities):\n",
    "    if len(named_entities) > 0:\n",
    "        for idx, ent in enumerate(named_entities):\n",
    "            if 'ต.' in ent:\n",
    "                cur = con.cursor()\n",
    "                cur.execute(\"SELECT subdistrict FROM locations WHERE subdistrict = '\" +ent.replace(\"ต.\",\"\")+ \"'\")\n",
    "                res = cur.fetchone()\n",
    "                if(res is not None):\n",
    "                    return res[0]\n",
    "            \n",
    "        cur = con.cursor()\n",
    "        cur.execute(\"SELECT subdistrict FROM locations WHERE subdistrict IN (\" + \",\".join(\"?\"*len(named_entities)) + \")\", [p.lower() for p in named_entities])\n",
    "        res = cur.fetchone()\n",
    "        if res is not None:\n",
    "            return res[0]\n",
    "        return None\n",
    "               \n",
    "                    \n",
    "        "
   ]
  },
  {
   "cell_type": "code",
   "execution_count": 13,
   "id": "57ccace6",
   "metadata": {},
   "outputs": [],
   "source": [
    "def find_district(named_entities):\n",
    "    if len(named_entities) > 0:\n",
    "        for idx, ent in enumerate(named_entities):\n",
    "            if 'อ.' in ent:\n",
    "                cur = con.cursor()\n",
    "                cur.execute(\"SELECT district FROM locations WHERE district = '\" +ent.replace(\"อ.\",\"\")+ \"'\")\n",
    "                res = cur.fetchone()\n",
    "                if(res is not None):\n",
    "                    return res[0]\n",
    "            \n",
    "        cur = con.cursor()\n",
    "        cur.execute(\"SELECT district FROM locations WHERE district IN (\" + \",\".join(\"?\"*len(named_entities)) + \")\", [p.lower() for p in named_entities])\n",
    "        res = cur.fetchone()\n",
    "        if res is not None:\n",
    "            return res[0]\n",
    "        return None\n",
    "               "
   ]
  },
  {
   "cell_type": "code",
   "execution_count": 14,
   "id": "6da7a181",
   "metadata": {},
   "outputs": [],
   "source": [
    "def find_province(named_entities):\n",
    "    if len(named_entities) > 0:\n",
    "        for idx, ent in enumerate(named_entities):\n",
    "            if 'จ.' in ent:\n",
    "                cur = con.cursor()\n",
    "                cur.execute(\"SELECT province FROM locations WHERE province = '\" +ent.replace(\"จ.\",\"\")+ \"'\")\n",
    "                res = cur.fetchone()\n",
    "                if(res is not None):\n",
    "                    return res[0]\n",
    "            \n",
    "        cur = con.cursor()\n",
    "        cur.execute(\"SELECT province FROM locations WHERE province IN (\" + \",\".join(\"?\"*len(named_entities)) + \")\", [p.lower() for p in named_entities])\n",
    "        res = cur.fetchone()\n",
    "        if res is not None:\n",
    "            return res[0]\n",
    "        return None"
   ]
  },
  {
   "cell_type": "code",
   "execution_count": 15,
   "id": "8a780c3b",
   "metadata": {},
   "outputs": [
    {
     "name": "stdout",
     "output_type": "stream",
     "text": [
      "{'district': 'ไพศาลี', 'subdistrict': 'ไพศาลี', 'province': 'นครสวรรค์', 'latitude': '15.637', 'longitude': '100.700'}\n"
     ]
    }
   ],
   "source": [
    "loc = find_location(\"หญิงวัย 61 ปี เจ้าของร้านชำที่ไพศาลี นครสวรรค์ ตกเป็นเหยื่อกระสุนอดีตลูกเขยโหด ใช้ปืนลูกซองยาวเข้ามายิงตายคาร้าน ตำรวจตามรวบได้ทันควัน สารภาพแค้นที่ผู้ตายไม่เห็นคุณค่า กีดขวางไม่ให้อยู่กินกับลูกสาว ทั้งที่พยายามพิสูจน์ตัวเองมานับ 10 ปี เวลา 09.00 น. วันที่ 12 มิ.ย. ร.ต.อ.ภาสกร เรืองศรีธัญกิจ รอง สว.(สอบสวน) สภ.ไพศาลี จ.นครสวรรค์ ได้รับแจ้งมีเหตุยิงกันตายที่ร้านค้าของชำในตลาดไพศาลี จึงพร้อมด้วย\")\n",
    "print(loc)"
   ]
  },
  {
   "cell_type": "code",
   "execution_count": 16,
   "id": "0003e98a",
   "metadata": {},
   "outputs": [],
   "source": [
    "# con = populate_db()\n",
    "def find_location(text):\n",
    "    words = find_named_entities(text)\n",
    "    # print(words)\n",
    "    district = find_district(words)\n",
    "    subdistrict = find_subdistrict(words)\n",
    "    province = find_province(words)\n",
    "    \n",
    "    location = {\n",
    "        \"district\" : district,\n",
    "        \"subdistrict\" : subdistrict,\n",
    "        \"province\": province\n",
    "    }\n",
    "    \n",
    "    if subdistrict and district:\n",
    "        cur = con.cursor()\n",
    "        cur.execute(\"SELECT latitude, longitude FROM locations WHERE subdistrict = '\" +subdistrict+ \"'\" + \"and district = '\" + district + \"'\")\n",
    "        res = cur.fetchone()\n",
    "        if res is not None:\n",
    "            location['latitude'] = res[0]\n",
    "            location['longitude'] = res[1]\n",
    "    elif subdistrict:\n",
    "        cur = con.cursor()\n",
    "        cur.execute(\"SELECT district, latitude, longitude FROM locations WHERE subdistrict = '\" +subdistrict+ \"'\")\n",
    "        res = cur.fetchone()\n",
    "        if res is not None:\n",
    "            location['district'] = res[0]\n",
    "            location['latitude'] = res[1]\n",
    "            location['longitude'] = res[2]\n",
    "    else:\n",
    "        location['latitude'] = None\n",
    "        location['longitude'] = None\n",
    "    return location\n",
    "    \n",
    "   \n",
    "        \n",
    "        "
   ]
  },
  {
   "cell_type": "code",
   "execution_count": 17,
   "id": "f5cbfb8c",
   "metadata": {},
   "outputs": [
    {
     "name": "stdout",
     "output_type": "stream",
     "text": [
      "{'district': 'เขาพนม', 'subdistrict': 'หน้าเขา', 'province': 'กระบี่', 'latitude': '8.343', 'longitude': '98.966'}\n"
     ]
    }
   ],
   "source": [
    "loc = find_location(\"เพื่อปกปิดการตาย&quot; จับกุมได้ที่บริเวณริมถนนสาธารณะ สายถ้ำโกบ-เขาดิน หมู่ 3 ต.หน้าเขา อ.เขาพนม จ.กระบี่ สืบ\")\n",
    "print(loc)"
   ]
  },
  {
   "cell_type": "code",
   "execution_count": 294,
   "id": "4eb271f2",
   "metadata": {},
   "outputs": [
    {
     "name": "stdout",
     "output_type": "stream",
     "text": [
      "{'district': None, 'subdistrict': None, 'province': None, 'latitude': None, 'longitude': None}\n"
     ]
    }
   ],
   "source": [
    "loc = find_location(\"หรือ นายธีรเดช ขจรสุข อายุ 50 ปี ผู้ต้องหาตามหมายจับศาลจังหวัดเชียงใหม่ ที่ 716/2559 ลงวันที่ 5 ต.ค.2559 ในฐานความผิด กระทำชำเราเด็กอายุไม่เกิน 15 ปี ,กระทำชำเราเด็กอายุเกิน 15 ปี, กระทำอนาจารเด็กอายุไม่เกิน 15 ปี\")\n",
    "print(loc)"
   ]
  },
  {
   "cell_type": "code",
   "execution_count": 298,
   "id": "f41004bc",
   "metadata": {},
   "outputs": [
    {
     "name": "stdout",
     "output_type": "stream",
     "text": [
      "{'district': 'เคียนซา', 'subdistrict': 'บ้านเสด็จ', 'province': 'สุราษฎร์ธานี', 'latitude': '8.736', 'longitude': '99.024'}\n"
     ]
    }
   ],
   "source": [
    "loc = find_location(\"โดยจับกุมได้ที่วัดสายวารี ต.บ้านเสด็จ อ.เคียนซา จ.สุราษฎร์ธานี พ.ต.อ.มารุต กล่าวว่า\")\n",
    "print(loc)"
   ]
  },
  {
   "cell_type": "code",
   "execution_count": 18,
   "id": "bf875f78",
   "metadata": {},
   "outputs": [],
   "source": [
    "# df = pd.read_csv('data/sentiment_analysis_data.csv')\n",
    "# sent_loc = []\n",
    "# for index, row in df.iterrows():\n",
    "#     sent_loc.append(find_location(row['text']))\n",
    "# df['location'] = sent_loc"
   ]
  },
  {
   "cell_type": "code",
   "execution_count": 19,
   "id": "86630b98",
   "metadata": {},
   "outputs": [],
   "source": [
    "# df.to_csv('data/result.csv')  "
   ]
  },
  {
   "cell_type": "code",
   "execution_count": 20,
   "id": "cce7bdf9",
   "metadata": {},
   "outputs": [],
   "source": [
    "# df = pd.read_csv('data/cls/sentence_crimelocation.csv')\n",
    "# sent_loc = []\n",
    "# for index, row in df.iterrows():\n",
    "#     sent_loc.append(find_location(row['text']))\n",
    "# df['location'] = sent_loc"
   ]
  },
  {
   "cell_type": "code",
   "execution_count": 21,
   "id": "c93b511b",
   "metadata": {},
   "outputs": [],
   "source": [
    "# df.to_csv('data/cls/result.csv')  "
   ]
  },
  {
   "cell_type": "code",
   "execution_count": null,
   "id": "80f9b9c0",
   "metadata": {},
   "outputs": [],
   "source": []
  }
 ],
 "metadata": {
  "kernelspec": {
   "display_name": "Python 3 (ipykernel)",
   "language": "python",
   "name": "python3"
  },
  "language_info": {
   "codemirror_mode": {
    "name": "ipython",
    "version": 3
   },
   "file_extension": ".py",
   "mimetype": "text/x-python",
   "name": "python",
   "nbconvert_exporter": "python",
   "pygments_lexer": "ipython3",
   "version": "3.9.13"
  }
 },
 "nbformat": 4,
 "nbformat_minor": 5
}
